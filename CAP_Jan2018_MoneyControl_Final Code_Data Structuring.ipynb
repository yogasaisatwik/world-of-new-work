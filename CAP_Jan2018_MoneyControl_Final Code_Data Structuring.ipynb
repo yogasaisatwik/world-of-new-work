{
 "cells": [
  {
   "cell_type": "code",
   "execution_count": 1,
   "metadata": {
    "collapsed": true
   },
   "outputs": [],
   "source": [
    "#importing nse library to get nse stock data\n",
    "\n",
    "from nsepy import get_history\n",
    "from datetime import date\n",
    "import pandas as pd\n",
    "import datetime\n"
   ]
  },
  {
   "cell_type": "code",
   "execution_count": 2,
   "metadata": {
    "collapsed": true
   },
   "outputs": [],
   "source": [
    "#reading the scrapped data \n",
    "money=pd.read_excel(\"E:\\\\allpraxis\\\\CAPP\\\\Scrapped Data1.xlsx\")\n",
    "money = money.dropna(subset = ['NSE CODE'])  #removing any blank fields\n",
    "money = money.reset_index(drop=True) #avoiding old index to be added as a separate column"
   ]
  },
  {
   "cell_type": "code",
   "execution_count": 3,
   "metadata": {},
   "outputs": [
    {
     "data": {
      "text/html": [
       "<div>\n",
       "<style>\n",
       "    .dataframe thead tr:only-child th {\n",
       "        text-align: right;\n",
       "    }\n",
       "\n",
       "    .dataframe thead th {\n",
       "        text-align: left;\n",
       "    }\n",
       "\n",
       "    .dataframe tbody tr th {\n",
       "        vertical-align: top;\n",
       "    }\n",
       "</style>\n",
       "<table border=\"1\" class=\"dataframe\">\n",
       "  <thead>\n",
       "    <tr style=\"text-align: right;\">\n",
       "      <th></th>\n",
       "      <th>Sl no</th>\n",
       "      <th>Date</th>\n",
       "      <th>Stock_Name</th>\n",
       "      <th>New Stock Name</th>\n",
       "      <th>NSE DESC</th>\n",
       "      <th>NSE CODE</th>\n",
       "      <th>Action</th>\n",
       "      <th>Target</th>\n",
       "      <th>Recommender</th>\n",
       "    </tr>\n",
       "  </thead>\n",
       "  <tbody>\n",
       "    <tr>\n",
       "      <th>0</th>\n",
       "      <td>8144</td>\n",
       "      <td>sep 15, 2014</td>\n",
       "      <td>petronet lng</td>\n",
       "      <td>PETRONET LNG</td>\n",
       "      <td>PETRONET LNG</td>\n",
       "      <td>PETRONET</td>\n",
       "      <td>sell</td>\n",
       "      <td>185</td>\n",
       "      <td>kotak securities</td>\n",
       "    </tr>\n",
       "    <tr>\n",
       "      <th>1</th>\n",
       "      <td>8571</td>\n",
       "      <td>aug 06, 2014</td>\n",
       "      <td>petronet lng</td>\n",
       "      <td>PETRONET LNG</td>\n",
       "      <td>PETRONET LNG</td>\n",
       "      <td>PETRONET</td>\n",
       "      <td>hold</td>\n",
       "      <td>170</td>\n",
       "      <td>emkay</td>\n",
       "    </tr>\n",
       "    <tr>\n",
       "      <th>2</th>\n",
       "      <td>9170</td>\n",
       "      <td>jun 23, 2014</td>\n",
       "      <td>petronet lng</td>\n",
       "      <td>PETRONET LNG</td>\n",
       "      <td>PETRONET LNG</td>\n",
       "      <td>PETRONET</td>\n",
       "      <td>buy</td>\n",
       "      <td>195</td>\n",
       "      <td>icicidirect.com</td>\n",
       "    </tr>\n",
       "    <tr>\n",
       "      <th>3</th>\n",
       "      <td>9674</td>\n",
       "      <td>may 14, 2014</td>\n",
       "      <td>petronet lng</td>\n",
       "      <td>PETRONET LNG</td>\n",
       "      <td>PETRONET LNG</td>\n",
       "      <td>PETRONET</td>\n",
       "      <td>hold</td>\n",
       "      <td>152</td>\n",
       "      <td>sushil finance</td>\n",
       "    </tr>\n",
       "    <tr>\n",
       "      <th>4</th>\n",
       "      <td>9762</td>\n",
       "      <td>may 06, 2014</td>\n",
       "      <td>petronet lng</td>\n",
       "      <td>PETRONET LNG</td>\n",
       "      <td>PETRONET LNG</td>\n",
       "      <td>PETRONET</td>\n",
       "      <td>reduce</td>\n",
       "      <td>143</td>\n",
       "      <td>krchoksey</td>\n",
       "    </tr>\n",
       "  </tbody>\n",
       "</table>\n",
       "</div>"
      ],
      "text/plain": [
       "   Sl no             Date     Stock_Name New Stock Name      NSE DESC  \\\n",
       "0   8144    sep 15, 2014    petronet lng   PETRONET LNG  PETRONET LNG   \n",
       "1   8571    aug 06, 2014    petronet lng   PETRONET LNG  PETRONET LNG   \n",
       "2   9170    jun 23, 2014    petronet lng   PETRONET LNG  PETRONET LNG   \n",
       "3   9674    may 14, 2014    petronet lng   PETRONET LNG  PETRONET LNG   \n",
       "4   9762    may 06, 2014    petronet lng   PETRONET LNG  PETRONET LNG   \n",
       "\n",
       "   NSE CODE  Action  Target         Recommender  \n",
       "0  PETRONET    sell     185   kotak securities   \n",
       "1  PETRONET    hold     170              emkay   \n",
       "2  PETRONET     buy     195    icicidirect.com   \n",
       "3  PETRONET    hold     152     sushil finance   \n",
       "4  PETRONET  reduce     143          krchoksey   "
      ]
     },
     "execution_count": 3,
     "metadata": {},
     "output_type": "execute_result"
    }
   ],
   "source": [
    "money.head()"
   ]
  },
  {
   "cell_type": "code",
   "execution_count": 4,
   "metadata": {},
   "outputs": [
    {
     "data": {
      "text/plain": [
       "(5202, 9)"
      ]
     },
     "execution_count": 4,
     "metadata": {},
     "output_type": "execute_result"
    }
   ],
   "source": [
    "#FOR EACH STOCK:-\n",
    "# extracting start date(recommendation date).\n",
    "# extracting target.\n",
    "# extracting nearest value acheived, argmin(daily_closing_price - target).\n",
    "# extracting date when nearest value acheived.\n",
    "# days to acheive target(start date - acheived date)\n",
    "money.shape"
   ]
  },
  {
   "cell_type": "code",
   "execution_count": 13,
   "metadata": {},
   "outputs": [
    {
     "data": {
      "text/html": [
       "<div>\n",
       "<style>\n",
       "    .dataframe thead tr:only-child th {\n",
       "        text-align: right;\n",
       "    }\n",
       "\n",
       "    .dataframe thead th {\n",
       "        text-align: left;\n",
       "    }\n",
       "\n",
       "    .dataframe tbody tr th {\n",
       "        vertical-align: top;\n",
       "    }\n",
       "</style>\n",
       "<table border=\"1\" class=\"dataframe\">\n",
       "  <thead>\n",
       "    <tr style=\"text-align: right;\">\n",
       "      <th></th>\n",
       "      <th>Sl no</th>\n",
       "      <th>Date</th>\n",
       "      <th>Stock_Name</th>\n",
       "      <th>New Stock Name</th>\n",
       "      <th>NSE DESC</th>\n",
       "      <th>NSE CODE</th>\n",
       "      <th>Action</th>\n",
       "      <th>Target</th>\n",
       "      <th>Recommender</th>\n",
       "    </tr>\n",
       "  </thead>\n",
       "  <tbody>\n",
       "    <tr>\n",
       "      <th>1</th>\n",
       "      <td>8571</td>\n",
       "      <td>aug 06, 2014</td>\n",
       "      <td>petronet lng</td>\n",
       "      <td>PETRONET LNG</td>\n",
       "      <td>PETRONET LNG</td>\n",
       "      <td>PETRONET</td>\n",
       "      <td>hold</td>\n",
       "      <td>170</td>\n",
       "      <td>emkay</td>\n",
       "    </tr>\n",
       "  </tbody>\n",
       "</table>\n",
       "</div>"
      ],
      "text/plain": [
       "   Sl no             Date     Stock_Name New Stock Name      NSE DESC  \\\n",
       "1   8571    aug 06, 2014    petronet lng   PETRONET LNG  PETRONET LNG   \n",
       "\n",
       "   NSE CODE Action  Target Recommender  \n",
       "1  PETRONET   hold     170      emkay   "
      ]
     },
     "metadata": {},
     "output_type": "display_data"
    }
   ],
   "source": [
    "recommendation=money[1:2]\n",
    "display(recommendation)"
   ]
  },
  {
   "cell_type": "code",
   "execution_count": 24,
   "metadata": {},
   "outputs": [
    {
     "data": {
      "text/plain": [
       "'PETRONET'"
      ]
     },
     "execution_count": 24,
     "metadata": {},
     "output_type": "execute_result"
    }
   ],
   "source": [
    "stock_code= recommendation['NSE CODE'].iloc[0]\n",
    "stock_code"
   ]
  },
  {
   "cell_type": "code",
   "execution_count": 15,
   "metadata": {},
   "outputs": [
    {
     "data": {
      "text/plain": [
       "'  aug 06, 2014 '"
      ]
     },
     "execution_count": 15,
     "metadata": {},
     "output_type": "execute_result"
    }
   ],
   "source": [
    "#Extracting date from extracted rows:\n",
    "start_date= recommendation['Date'].iloc[0]\n",
    "#start_date = start_date.drop([0])\n",
    "#d = start_date[1]\n",
    "#d\n",
    "start_date"
   ]
  },
  {
   "cell_type": "code",
   "execution_count": 12,
   "metadata": {
    "collapsed": true
   },
   "outputs": [],
   "source": [
    "#to get history of stock we have to pass date in date(%Y,%m,%d) format, thus converting:\n",
    "#date_object = datetime.strptime(d, '%m %d %Y') # getting error because of ',' in date forat\n",
    "#print(date_object)"
   ]
  },
  {
   "cell_type": "code",
   "execution_count": 16,
   "metadata": {},
   "outputs": [
    {
     "data": {
      "text/plain": [
       "'  aug 06 2014 '"
      ]
     },
     "execution_count": 16,
     "metadata": {},
     "output_type": "execute_result"
    }
   ],
   "source": [
    "#removing comma from date format:\n",
    "#money['Date'].str.replace(',', '') # working\n",
    "start_date = start_date.replace(',', '') #worked\n",
    "start_date"
   ]
  },
  {
   "cell_type": "code",
   "execution_count": 17,
   "metadata": {},
   "outputs": [
    {
     "data": {
      "text/plain": [
       "Timestamp('2014-08-06 00:00:00')"
      ]
     },
     "metadata": {},
     "output_type": "display_data"
    }
   ],
   "source": [
    "#now converting date column in get_history formatdate(2018,8,20): \n",
    "#first modifying the str value to pd date format\n",
    "start_date = pd.to_datetime(start_date) \n",
    "display(start_date) \n"
   ]
  },
  {
   "cell_type": "code",
   "execution_count": 19,
   "metadata": {},
   "outputs": [
    {
     "data": {
      "text/plain": [
       "170"
      ]
     },
     "execution_count": 19,
     "metadata": {},
     "output_type": "execute_result"
    }
   ],
   "source": [
    "#extracting target:\n",
    "st_target= recommendation['Target'].iloc[0] #value for target for given stock code\n",
    "st_target"
   ]
  },
  {
   "cell_type": "markdown",
   "metadata": {},
   "source": [
    "## generalising get_hist function:"
   ]
  },
  {
   "cell_type": "code",
   "execution_count": 20,
   "metadata": {},
   "outputs": [
    {
     "data": {
      "text/plain": [
       "datetime.date(2014, 8, 6)"
      ]
     },
     "execution_count": 20,
     "metadata": {},
     "output_type": "execute_result"
    }
   ],
   "source": [
    "recom_date = start_date.date() \n",
    "# recom_date = '2016,08,29'\n",
    "\n",
    "recom_date"
   ]
  },
  {
   "cell_type": "code",
   "execution_count": 21,
   "metadata": {},
   "outputs": [
    {
     "name": "stdout",
     "output_type": "stream",
     "text": [
      "2014\n",
      "8\n",
      "6\n",
      "2015\n"
     ]
    }
   ],
   "source": [
    "year = recom_date.year\n",
    "month = recom_date.month\n",
    "day = recom_date.day\n",
    "end_year = int(year)+1\n",
    "print(year)\n",
    "print(month)\n",
    "print(day)\n",
    "print(end_year)"
   ]
  },
  {
   "cell_type": "code",
   "execution_count": 25,
   "metadata": {},
   "outputs": [
    {
     "data": {
      "text/html": [
       "<div>\n",
       "<style>\n",
       "    .dataframe thead tr:only-child th {\n",
       "        text-align: right;\n",
       "    }\n",
       "\n",
       "    .dataframe thead th {\n",
       "        text-align: left;\n",
       "    }\n",
       "\n",
       "    .dataframe tbody tr th {\n",
       "        vertical-align: top;\n",
       "    }\n",
       "</style>\n",
       "<table border=\"1\" class=\"dataframe\">\n",
       "  <thead>\n",
       "    <tr style=\"text-align: right;\">\n",
       "      <th></th>\n",
       "      <th>Symbol</th>\n",
       "      <th>Series</th>\n",
       "      <th>Prev Close</th>\n",
       "      <th>Open</th>\n",
       "      <th>High</th>\n",
       "      <th>Low</th>\n",
       "      <th>Last</th>\n",
       "      <th>Close</th>\n",
       "      <th>VWAP</th>\n",
       "      <th>Volume</th>\n",
       "      <th>Turnover</th>\n",
       "      <th>Trades</th>\n",
       "      <th>Deliverable Volume</th>\n",
       "      <th>%Deliverble</th>\n",
       "    </tr>\n",
       "    <tr>\n",
       "      <th>Date</th>\n",
       "      <th></th>\n",
       "      <th></th>\n",
       "      <th></th>\n",
       "      <th></th>\n",
       "      <th></th>\n",
       "      <th></th>\n",
       "      <th></th>\n",
       "      <th></th>\n",
       "      <th></th>\n",
       "      <th></th>\n",
       "      <th></th>\n",
       "      <th></th>\n",
       "      <th></th>\n",
       "      <th></th>\n",
       "    </tr>\n",
       "  </thead>\n",
       "  <tbody>\n",
       "    <tr>\n",
       "      <th>2014-08-06</th>\n",
       "      <td>PETRONET</td>\n",
       "      <td>EQ</td>\n",
       "      <td>172.75</td>\n",
       "      <td>172.00</td>\n",
       "      <td>172.00</td>\n",
       "      <td>165.05</td>\n",
       "      <td>167.6</td>\n",
       "      <td>167.20</td>\n",
       "      <td>169.10</td>\n",
       "      <td>2305210</td>\n",
       "      <td>3.898099e+13</td>\n",
       "      <td>28092</td>\n",
       "      <td>1502732</td>\n",
       "      <td>0.6519</td>\n",
       "    </tr>\n",
       "    <tr>\n",
       "      <th>2014-08-07</th>\n",
       "      <td>PETRONET</td>\n",
       "      <td>EQ</td>\n",
       "      <td>167.20</td>\n",
       "      <td>167.00</td>\n",
       "      <td>170.35</td>\n",
       "      <td>166.25</td>\n",
       "      <td>170.1</td>\n",
       "      <td>169.50</td>\n",
       "      <td>169.11</td>\n",
       "      <td>748927</td>\n",
       "      <td>1.266525e+13</td>\n",
       "      <td>17678</td>\n",
       "      <td>339794</td>\n",
       "      <td>0.4537</td>\n",
       "    </tr>\n",
       "    <tr>\n",
       "      <th>2014-08-08</th>\n",
       "      <td>PETRONET</td>\n",
       "      <td>EQ</td>\n",
       "      <td>169.50</td>\n",
       "      <td>167.75</td>\n",
       "      <td>172.70</td>\n",
       "      <td>165.70</td>\n",
       "      <td>171.5</td>\n",
       "      <td>171.30</td>\n",
       "      <td>169.72</td>\n",
       "      <td>1094281</td>\n",
       "      <td>1.857164e+13</td>\n",
       "      <td>17241</td>\n",
       "      <td>362538</td>\n",
       "      <td>0.3313</td>\n",
       "    </tr>\n",
       "    <tr>\n",
       "      <th>2014-08-11</th>\n",
       "      <td>PETRONET</td>\n",
       "      <td>EQ</td>\n",
       "      <td>171.30</td>\n",
       "      <td>171.00</td>\n",
       "      <td>180.00</td>\n",
       "      <td>166.15</td>\n",
       "      <td>170.6</td>\n",
       "      <td>171.45</td>\n",
       "      <td>172.89</td>\n",
       "      <td>1104451</td>\n",
       "      <td>1.909486e+13</td>\n",
       "      <td>17902</td>\n",
       "      <td>622155</td>\n",
       "      <td>0.5633</td>\n",
       "    </tr>\n",
       "    <tr>\n",
       "      <th>2014-08-12</th>\n",
       "      <td>PETRONET</td>\n",
       "      <td>EQ</td>\n",
       "      <td>171.45</td>\n",
       "      <td>171.05</td>\n",
       "      <td>174.90</td>\n",
       "      <td>171.05</td>\n",
       "      <td>173.8</td>\n",
       "      <td>174.05</td>\n",
       "      <td>173.43</td>\n",
       "      <td>681679</td>\n",
       "      <td>1.182231e+13</td>\n",
       "      <td>10196</td>\n",
       "      <td>332548</td>\n",
       "      <td>0.4878</td>\n",
       "    </tr>\n",
       "  </tbody>\n",
       "</table>\n",
       "</div>"
      ],
      "text/plain": [
       "              Symbol Series  Prev Close    Open    High     Low   Last  \\\n",
       "Date                                                                     \n",
       "2014-08-06  PETRONET     EQ      172.75  172.00  172.00  165.05  167.6   \n",
       "2014-08-07  PETRONET     EQ      167.20  167.00  170.35  166.25  170.1   \n",
       "2014-08-08  PETRONET     EQ      169.50  167.75  172.70  165.70  171.5   \n",
       "2014-08-11  PETRONET     EQ      171.30  171.00  180.00  166.15  170.6   \n",
       "2014-08-12  PETRONET     EQ      171.45  171.05  174.90  171.05  173.8   \n",
       "\n",
       "             Close    VWAP   Volume      Turnover  Trades  Deliverable Volume  \\\n",
       "Date                                                                            \n",
       "2014-08-06  167.20  169.10  2305210  3.898099e+13   28092             1502732   \n",
       "2014-08-07  169.50  169.11   748927  1.266525e+13   17678              339794   \n",
       "2014-08-08  171.30  169.72  1094281  1.857164e+13   17241              362538   \n",
       "2014-08-11  171.45  172.89  1104451  1.909486e+13   17902              622155   \n",
       "2014-08-12  174.05  173.43   681679  1.182231e+13   10196              332548   \n",
       "\n",
       "            %Deliverble  \n",
       "Date                     \n",
       "2014-08-06       0.6519  \n",
       "2014-08-07       0.4537  \n",
       "2014-08-08       0.3313  \n",
       "2014-08-11       0.5633  \n",
       "2014-08-12       0.4878  "
      ]
     },
     "execution_count": 25,
     "metadata": {},
     "output_type": "execute_result"
    }
   ],
   "source": [
    "#getting stock history data in required format:\n",
    "#get_history(symbol=\"CIPLA\",start=date(2016,8,20),end=date(2017,8,20))\n",
    "from nsepy import get_history\n",
    "from datetime import date\n",
    "import datetime\n",
    "s_hist=get_history(symbol=stock_code,start=date(year,month,day),end=date(end_year,month,day))\n",
    "s_hist.head()"
   ]
  },
  {
   "cell_type": "markdown",
   "metadata": {},
   "source": [
    "# #Creating difference column:"
   ]
  },
  {
   "cell_type": "code",
   "execution_count": 27,
   "metadata": {},
   "outputs": [
    {
     "data": {
      "text/html": [
       "<div>\n",
       "<style>\n",
       "    .dataframe thead tr:only-child th {\n",
       "        text-align: right;\n",
       "    }\n",
       "\n",
       "    .dataframe thead th {\n",
       "        text-align: left;\n",
       "    }\n",
       "\n",
       "    .dataframe tbody tr th {\n",
       "        vertical-align: top;\n",
       "    }\n",
       "</style>\n",
       "<table border=\"1\" class=\"dataframe\">\n",
       "  <thead>\n",
       "    <tr style=\"text-align: right;\">\n",
       "      <th></th>\n",
       "      <th>Symbol</th>\n",
       "      <th>Series</th>\n",
       "      <th>Prev Close</th>\n",
       "      <th>Open</th>\n",
       "      <th>High</th>\n",
       "      <th>Low</th>\n",
       "      <th>Last</th>\n",
       "      <th>Close</th>\n",
       "      <th>VWAP</th>\n",
       "      <th>Volume</th>\n",
       "      <th>Turnover</th>\n",
       "      <th>Trades</th>\n",
       "      <th>Deliverable Volume</th>\n",
       "      <th>%Deliverble</th>\n",
       "    </tr>\n",
       "    <tr>\n",
       "      <th>Date</th>\n",
       "      <th></th>\n",
       "      <th></th>\n",
       "      <th></th>\n",
       "      <th></th>\n",
       "      <th></th>\n",
       "      <th></th>\n",
       "      <th></th>\n",
       "      <th></th>\n",
       "      <th></th>\n",
       "      <th></th>\n",
       "      <th></th>\n",
       "      <th></th>\n",
       "      <th></th>\n",
       "      <th></th>\n",
       "    </tr>\n",
       "  </thead>\n",
       "  <tbody>\n",
       "    <tr>\n",
       "      <th>2014-08-07</th>\n",
       "      <td>PETRONET</td>\n",
       "      <td>EQ</td>\n",
       "      <td>167.2</td>\n",
       "      <td>167.0</td>\n",
       "      <td>170.35</td>\n",
       "      <td>166.25</td>\n",
       "      <td>170.1</td>\n",
       "      <td>169.5</td>\n",
       "      <td>169.11</td>\n",
       "      <td>748927</td>\n",
       "      <td>1.266525e+13</td>\n",
       "      <td>17678</td>\n",
       "      <td>339794</td>\n",
       "      <td>0.4537</td>\n",
       "    </tr>\n",
       "  </tbody>\n",
       "</table>\n",
       "</div>"
      ],
      "text/plain": [
       "              Symbol Series  Prev Close   Open    High     Low   Last  Close  \\\n",
       "Date                                                                           \n",
       "2014-08-07  PETRONET     EQ       167.2  167.0  170.35  166.25  170.1  169.5   \n",
       "\n",
       "              VWAP  Volume      Turnover  Trades  Deliverable Volume  \\\n",
       "Date                                                                   \n",
       "2014-08-07  169.11  748927  1.266525e+13   17678              339794   \n",
       "\n",
       "            %Deliverble  \n",
       "Date                     \n",
       "2014-08-07       0.4537  "
      ]
     },
     "execution_count": 27,
     "metadata": {},
     "output_type": "execute_result"
    }
   ],
   "source": [
    "# source: https://stackoverflow.com/a/43112103\n",
    "# To get the closest value\n",
    "\n",
    "closest_value = s_hist.iloc[(s_hist['High']-st_target).abs().argsort()[:1]] #brings out the closest value row in NSE comparing the \n",
    "#recommendation target price\n",
    "closest_value\n",
    "\n"
   ]
  },
  {
   "cell_type": "code",
   "execution_count": 28,
   "metadata": {},
   "outputs": [
    {
     "data": {
      "text/plain": [
       "Date\n",
       "2014-08-07    170.35\n",
       "Name: High, dtype: float64"
      ]
     },
     "execution_count": 28,
     "metadata": {},
     "output_type": "execute_result"
    }
   ],
   "source": [
    "closest_value_p=closest_value['High']\n",
    "closest_value_p  #extracting the high value in closest NSE record"
   ]
  },
  {
   "cell_type": "code",
   "execution_count": 29,
   "metadata": {},
   "outputs": [
    {
     "data": {
      "text/html": [
       "<div>\n",
       "<style>\n",
       "    .dataframe thead tr:only-child th {\n",
       "        text-align: right;\n",
       "    }\n",
       "\n",
       "    .dataframe thead th {\n",
       "        text-align: left;\n",
       "    }\n",
       "\n",
       "    .dataframe tbody tr th {\n",
       "        vertical-align: top;\n",
       "    }\n",
       "</style>\n",
       "<table border=\"1\" class=\"dataframe\">\n",
       "  <thead>\n",
       "    <tr style=\"text-align: right;\">\n",
       "      <th></th>\n",
       "      <th>Sl no</th>\n",
       "      <th>Date</th>\n",
       "      <th>Stock_Name</th>\n",
       "      <th>New Stock Name</th>\n",
       "      <th>NSE DESC</th>\n",
       "      <th>NSE CODE</th>\n",
       "      <th>Action</th>\n",
       "      <th>Target</th>\n",
       "      <th>Recommender</th>\n",
       "    </tr>\n",
       "  </thead>\n",
       "  <tbody>\n",
       "    <tr>\n",
       "      <th>1</th>\n",
       "      <td>8571</td>\n",
       "      <td>aug 06, 2014</td>\n",
       "      <td>petronet lng</td>\n",
       "      <td>PETRONET LNG</td>\n",
       "      <td>PETRONET LNG</td>\n",
       "      <td>PETRONET</td>\n",
       "      <td>hold</td>\n",
       "      <td>170</td>\n",
       "      <td>emkay</td>\n",
       "    </tr>\n",
       "  </tbody>\n",
       "</table>\n",
       "</div>"
      ],
      "text/plain": [
       "   Sl no             Date     Stock_Name New Stock Name      NSE DESC  \\\n",
       "1   8571    aug 06, 2014    petronet lng   PETRONET LNG  PETRONET LNG   \n",
       "\n",
       "   NSE CODE Action  Target Recommender  \n",
       "1  PETRONET   hold     170      emkay   "
      ]
     },
     "execution_count": 29,
     "metadata": {},
     "output_type": "execute_result"
    }
   ],
   "source": [
    "recommendation"
   ]
  },
  {
   "cell_type": "code",
   "execution_count": 30,
   "metadata": {
    "collapsed": true
   },
   "outputs": [],
   "source": [
    "merged_reco = pd.concat([recommendation.reset_index(drop=True), closest_value_p.reset_index(drop=True)], axis=1)"
   ]
  },
  {
   "cell_type": "code",
   "execution_count": 31,
   "metadata": {},
   "outputs": [
    {
     "data": {
      "text/html": [
       "<div>\n",
       "<style>\n",
       "    .dataframe thead tr:only-child th {\n",
       "        text-align: right;\n",
       "    }\n",
       "\n",
       "    .dataframe thead th {\n",
       "        text-align: left;\n",
       "    }\n",
       "\n",
       "    .dataframe tbody tr th {\n",
       "        vertical-align: top;\n",
       "    }\n",
       "</style>\n",
       "<table border=\"1\" class=\"dataframe\">\n",
       "  <thead>\n",
       "    <tr style=\"text-align: right;\">\n",
       "      <th></th>\n",
       "      <th>Sl no</th>\n",
       "      <th>Date</th>\n",
       "      <th>Stock_Name</th>\n",
       "      <th>New Stock Name</th>\n",
       "      <th>NSE DESC</th>\n",
       "      <th>NSE CODE</th>\n",
       "      <th>Action</th>\n",
       "      <th>Target</th>\n",
       "      <th>Recommender</th>\n",
       "      <th>High</th>\n",
       "      <th>ticker_date</th>\n",
       "    </tr>\n",
       "  </thead>\n",
       "  <tbody>\n",
       "    <tr>\n",
       "      <th>0</th>\n",
       "      <td>8571</td>\n",
       "      <td>aug 06, 2014</td>\n",
       "      <td>petronet lng</td>\n",
       "      <td>PETRONET LNG</td>\n",
       "      <td>PETRONET LNG</td>\n",
       "      <td>PETRONET</td>\n",
       "      <td>hold</td>\n",
       "      <td>170</td>\n",
       "      <td>emkay</td>\n",
       "      <td>170.35</td>\n",
       "      <td>2014-08-07</td>\n",
       "    </tr>\n",
       "  </tbody>\n",
       "</table>\n",
       "</div>"
      ],
      "text/plain": [
       "   Sl no             Date     Stock_Name New Stock Name      NSE DESC  \\\n",
       "0   8571    aug 06, 2014    petronet lng   PETRONET LNG  PETRONET LNG   \n",
       "\n",
       "   NSE CODE Action  Target Recommender    High ticker_date  \n",
       "0  PETRONET   hold     170      emkay   170.35  2014-08-07  "
      ]
     },
     "metadata": {},
     "output_type": "display_data"
    }
   ],
   "source": [
    "merged_reco['ticker_date'] = closest_value_p.index\n",
    "display(merged_reco)"
   ]
  },
  {
   "cell_type": "code",
   "execution_count": 32,
   "metadata": {},
   "outputs": [
    {
     "data": {
      "text/html": [
       "<div>\n",
       "<style>\n",
       "    .dataframe thead tr:only-child th {\n",
       "        text-align: right;\n",
       "    }\n",
       "\n",
       "    .dataframe thead th {\n",
       "        text-align: left;\n",
       "    }\n",
       "\n",
       "    .dataframe tbody tr th {\n",
       "        vertical-align: top;\n",
       "    }\n",
       "</style>\n",
       "<table border=\"1\" class=\"dataframe\">\n",
       "  <thead>\n",
       "    <tr style=\"text-align: right;\">\n",
       "      <th></th>\n",
       "      <th>Sl no</th>\n",
       "      <th>Date</th>\n",
       "      <th>Stock_Name</th>\n",
       "      <th>New Stock Name</th>\n",
       "      <th>NSE DESC</th>\n",
       "      <th>NSE CODE</th>\n",
       "      <th>Action</th>\n",
       "      <th>Target</th>\n",
       "      <th>Recommender</th>\n",
       "      <th>High</th>\n",
       "      <th>ticker_date</th>\n",
       "      <th>Recommendation_Date</th>\n",
       "    </tr>\n",
       "  </thead>\n",
       "  <tbody>\n",
       "    <tr>\n",
       "      <th>0</th>\n",
       "      <td>8571</td>\n",
       "      <td>aug 06, 2014</td>\n",
       "      <td>petronet lng</td>\n",
       "      <td>PETRONET LNG</td>\n",
       "      <td>PETRONET LNG</td>\n",
       "      <td>PETRONET</td>\n",
       "      <td>hold</td>\n",
       "      <td>170</td>\n",
       "      <td>emkay</td>\n",
       "      <td>170.35</td>\n",
       "      <td>2014-08-07</td>\n",
       "      <td>2014-08-06</td>\n",
       "    </tr>\n",
       "  </tbody>\n",
       "</table>\n",
       "</div>"
      ],
      "text/plain": [
       "   Sl no             Date     Stock_Name New Stock Name      NSE DESC  \\\n",
       "0   8571    aug 06, 2014    petronet lng   PETRONET LNG  PETRONET LNG   \n",
       "\n",
       "   NSE CODE Action  Target Recommender    High ticker_date Recommendation_Date  \n",
       "0  PETRONET   hold     170      emkay   170.35  2014-08-07          2014-08-06  "
      ]
     },
     "metadata": {},
     "output_type": "display_data"
    }
   ],
   "source": [
    "merged_reco['Recommendation_Date'] = recom_date\n",
    "display(merged_reco)\n"
   ]
  },
  {
   "cell_type": "code",
   "execution_count": 28,
   "metadata": {
    "collapsed": true
   },
   "outputs": [],
   "source": [
    "#merged_reco['Threshold_Target'] = merged_reco['Target']*0.9 #Threshold for the target"
   ]
  },
  {
   "cell_type": "code",
   "execution_count": 33,
   "metadata": {},
   "outputs": [
    {
     "data": {
      "text/html": [
       "<div>\n",
       "<style>\n",
       "    .dataframe thead tr:only-child th {\n",
       "        text-align: right;\n",
       "    }\n",
       "\n",
       "    .dataframe thead th {\n",
       "        text-align: left;\n",
       "    }\n",
       "\n",
       "    .dataframe tbody tr th {\n",
       "        vertical-align: top;\n",
       "    }\n",
       "</style>\n",
       "<table border=\"1\" class=\"dataframe\">\n",
       "  <thead>\n",
       "    <tr style=\"text-align: right;\">\n",
       "      <th></th>\n",
       "      <th>Sl no</th>\n",
       "      <th>Date</th>\n",
       "      <th>Stock_Name</th>\n",
       "      <th>New Stock Name</th>\n",
       "      <th>NSE DESC</th>\n",
       "      <th>NSE CODE</th>\n",
       "      <th>Action</th>\n",
       "      <th>Target</th>\n",
       "      <th>Recommender</th>\n",
       "      <th>High</th>\n",
       "      <th>ticker_date</th>\n",
       "      <th>Recommendation_Date</th>\n",
       "      <th>Target_Met</th>\n",
       "    </tr>\n",
       "  </thead>\n",
       "  <tbody>\n",
       "    <tr>\n",
       "      <th>0</th>\n",
       "      <td>8571</td>\n",
       "      <td>aug 06, 2014</td>\n",
       "      <td>petronet lng</td>\n",
       "      <td>PETRONET LNG</td>\n",
       "      <td>PETRONET LNG</td>\n",
       "      <td>PETRONET</td>\n",
       "      <td>hold</td>\n",
       "      <td>170</td>\n",
       "      <td>emkay</td>\n",
       "      <td>170.35</td>\n",
       "      <td>2014-08-07</td>\n",
       "      <td>2014-08-06</td>\n",
       "      <td>True</td>\n",
       "    </tr>\n",
       "  </tbody>\n",
       "</table>\n",
       "</div>"
      ],
      "text/plain": [
       "   Sl no             Date     Stock_Name New Stock Name      NSE DESC  \\\n",
       "0   8571    aug 06, 2014    petronet lng   PETRONET LNG  PETRONET LNG   \n",
       "\n",
       "   NSE CODE Action  Target Recommender    High ticker_date  \\\n",
       "0  PETRONET   hold     170      emkay   170.35  2014-08-07   \n",
       "\n",
       "  Recommendation_Date  Target_Met  \n",
       "0          2014-08-06        True  "
      ]
     },
     "metadata": {},
     "output_type": "display_data"
    }
   ],
   "source": [
    "merged_reco['Target_Met'] = merged_reco['High'] >= merged_reco['Target']\n",
    "display(merged_reco)\n",
    "\n"
   ]
  },
  {
   "cell_type": "code",
   "execution_count": 34,
   "metadata": {},
   "outputs": [
    {
     "data": {
      "text/html": [
       "<div>\n",
       "<style>\n",
       "    .dataframe thead tr:only-child th {\n",
       "        text-align: right;\n",
       "    }\n",
       "\n",
       "    .dataframe thead th {\n",
       "        text-align: left;\n",
       "    }\n",
       "\n",
       "    .dataframe tbody tr th {\n",
       "        vertical-align: top;\n",
       "    }\n",
       "</style>\n",
       "<table border=\"1\" class=\"dataframe\">\n",
       "  <thead>\n",
       "    <tr style=\"text-align: right;\">\n",
       "      <th></th>\n",
       "      <th>Sl no</th>\n",
       "      <th>Date</th>\n",
       "      <th>Stock_Name</th>\n",
       "      <th>New Stock Name</th>\n",
       "      <th>NSE DESC</th>\n",
       "      <th>NSE CODE</th>\n",
       "      <th>Action</th>\n",
       "      <th>Target</th>\n",
       "      <th>Recommender</th>\n",
       "      <th>High</th>\n",
       "      <th>ticker_date</th>\n",
       "      <th>Recommendation_Date</th>\n",
       "      <th>Target_Met</th>\n",
       "      <th>Days_For_Target_Met</th>\n",
       "    </tr>\n",
       "  </thead>\n",
       "  <tbody>\n",
       "    <tr>\n",
       "      <th>0</th>\n",
       "      <td>8571</td>\n",
       "      <td>aug 06, 2014</td>\n",
       "      <td>petronet lng</td>\n",
       "      <td>PETRONET LNG</td>\n",
       "      <td>PETRONET LNG</td>\n",
       "      <td>PETRONET</td>\n",
       "      <td>hold</td>\n",
       "      <td>170</td>\n",
       "      <td>emkay</td>\n",
       "      <td>170.35</td>\n",
       "      <td>2014-08-07</td>\n",
       "      <td>2014-08-06</td>\n",
       "      <td>True</td>\n",
       "      <td>1 days</td>\n",
       "    </tr>\n",
       "  </tbody>\n",
       "</table>\n",
       "</div>"
      ],
      "text/plain": [
       "   Sl no             Date     Stock_Name New Stock Name      NSE DESC  \\\n",
       "0   8571    aug 06, 2014    petronet lng   PETRONET LNG  PETRONET LNG   \n",
       "\n",
       "   NSE CODE Action  Target Recommender    High ticker_date  \\\n",
       "0  PETRONET   hold     170      emkay   170.35  2014-08-07   \n",
       "\n",
       "  Recommendation_Date  Target_Met Days_For_Target_Met  \n",
       "0          2014-08-06        True              1 days  "
      ]
     },
     "metadata": {},
     "output_type": "display_data"
    }
   ],
   "source": [
    "import numpy as np\n",
    "\n",
    "merged_reco['Days_For_Target_Met'] = merged_reco['ticker_date']- merged_reco['Recommendation_Date']\n",
    "merged_reco['Days_For_Target_Met'] = np.where(merged_reco['Target_Met'], merged_reco['Days_For_Target_Met'], np.nan)\n",
    "display(merged_reco)"
   ]
  },
  {
   "cell_type": "code",
   "execution_count": 32,
   "metadata": {
    "collapsed": true
   },
   "outputs": [],
   "source": [
    "#merged_reco['Days_For_Threshold_Target_Met'] = merged_reco['ticker_date']- merged_reco['Recommendation_Date']\n",
    "#merged_reco['Days_For_Threshold_Target_Met'] = np.where(merged_reco['Threshold_Target_Met'], merged_reco['Days_For_Target_Met'], np.nan)\n",
    "#display(merged_reco)"
   ]
  },
  {
   "cell_type": "markdown",
   "metadata": {},
   "source": [
    "## Iterating to find the new columns to money control\n"
   ]
  },
  {
   "cell_type": "code",
   "execution_count": 33,
   "metadata": {},
   "outputs": [
    {
     "name": "stdout",
     "output_type": "stream",
     "text": [
      "The index is:  0\n",
      "The index is:  1\n",
      "The index is:  2\n",
      "The index is:  3\n",
      "The index is:  4\n",
      "The index is:  5\n",
      "The index is:  6\n",
      "The index is:  7\n",
      "The index is:  8\n",
      "The index is:  9\n"
     ]
    }
   ],
   "source": [
    "#function to iterate overs rows:\n",
    "\n",
    "from nsepy import get_history\n",
    "from datetime import date\n",
    "import datetime\n",
    "import numpy as np\n",
    "\n",
    "df = pd.DataFrame()\n",
    "\n",
    "for index, row in money.head(10).iterrows():\n",
    "       # from nsepy import get_history\n",
    "       # from datetime import date\n",
    "       # import datetime\n",
    "       # import numpy as np\n",
    "        recommendation =  money[index:index+1] #subsetting each row\n",
    "        print(\"The index is: \", index) #printing index\n",
    "        stock_code= recommendation['NSE CODE'].iloc[0] #taking the value in nse code\n",
    "        start_date= recommendation['Date'].iloc[0] #taking the date value out\n",
    "        start_date = start_date.replace(',', '')  #modifying as jan 15,2016 to jan 15 2016\n",
    "        start_date = pd.to_datetime(start_date)   #changing to 01/15/2016\n",
    "        recom_date = start_date.date() \n",
    "        year = recom_date.year #pulling year out\n",
    "        month = recom_date.month #pulling month out\n",
    "        day = recom_date.day # pulling day out\n",
    "        end_year = int(year)+1 # passing end year as start year +1\n",
    "        st_target= recommendation['Target'].iloc[0] #value for target for given stock code\n",
    "        s_hist=get_history(symbol=stock_code,start=date(year,month,day),end=date(end_year,month,day)) # getting out nse history for that\n",
    "        #stock between the time period\n",
    "        \n",
    "        #taking the ones for which s_hist has data\n",
    "        if len(s_hist.index)>0:\n",
    "            \n",
    "            closest_value = s_hist.iloc[(s_hist['High']-st_target).abs().argsort()[:1]]  #finding out the closest stock value in the 1year period.Extracting out that row\n",
    "            closest_value_p= closest_value['High'] #subsetting only high value with index\n",
    "            # Trying to get the closest value as a number for comparion against target\n",
    "            \n",
    "            merged_reco = pd.concat([recommendation.reset_index(drop=True), closest_value_p.reset_index(drop=True)], axis=1) #concatinating two tables money dataframe and closest value\n",
    "            merged_reco['ticker_date'] = np.where(closest_value['High'],closest_value.index,np.nan) #taking the index of closest value\n",
    "            merged_reco['Recommendation_Date'] = recom_date\n",
    "\n",
    "           # merged_reco['Threshold_Target'] = merged_reco['Target']*0.9 #Threshold for the target\n",
    "            merged_reco['Target_Met'] = merged_reco['High'] >= merged_reco['Target']\n",
    "           # merged_reco['Threshold_Target_Met'] = merged_reco['High'] >= merged_reco['Threshold_Target']\n",
    "            merged_reco['Days_For_Target_Met'] = merged_reco['ticker_date']- merged_reco['Recommendation_Date']\n",
    "            merged_reco['Days_For_Target_Met'] = np.where(merged_reco['Target_Met'], merged_reco['Days_For_Target_Met'], np.nan)\n",
    "\n",
    "            #merged_reco['Days_For_Threshold_Target_Met'] = merged_reco['ticker_date']- merged_reco['Recommendation_Date']\n",
    "            #merged_reco['Days_For_Threshold_Target_Met'] = np.where(merged_reco['Threshold_Target_Met'], merged_reco['Days_For_Target_Met'], np.nan)\n",
    "            df = df.append(merged_reco)\n",
    "   \n",
    "            \n",
    "    \n"
   ]
  },
  {
   "cell_type": "code",
   "execution_count": 34,
   "metadata": {},
   "outputs": [
    {
     "data": {
      "text/html": [
       "<div>\n",
       "<style>\n",
       "    .dataframe thead tr:only-child th {\n",
       "        text-align: right;\n",
       "    }\n",
       "\n",
       "    .dataframe thead th {\n",
       "        text-align: left;\n",
       "    }\n",
       "\n",
       "    .dataframe tbody tr th {\n",
       "        vertical-align: top;\n",
       "    }\n",
       "</style>\n",
       "<table border=\"1\" class=\"dataframe\">\n",
       "  <thead>\n",
       "    <tr style=\"text-align: right;\">\n",
       "      <th></th>\n",
       "      <th>Sl no</th>\n",
       "      <th>Date</th>\n",
       "      <th>Stock_Name</th>\n",
       "      <th>New Stock Name</th>\n",
       "      <th>NSE DESC</th>\n",
       "      <th>NSE CODE</th>\n",
       "      <th>Action</th>\n",
       "      <th>Target</th>\n",
       "      <th>Recommender</th>\n",
       "    </tr>\n",
       "  </thead>\n",
       "  <tbody>\n",
       "    <tr>\n",
       "      <th>50</th>\n",
       "      <td>611</td>\n",
       "      <td>jul 31, 2018</td>\n",
       "      <td>petronet lng ltd</td>\n",
       "      <td>PETRONET LNG LTD</td>\n",
       "      <td>PETRONET LNG</td>\n",
       "      <td>PETRONET</td>\n",
       "      <td>buy</td>\n",
       "      <td>267</td>\n",
       "      <td>kotak securities</td>\n",
       "    </tr>\n",
       "  </tbody>\n",
       "</table>\n",
       "</div>"
      ],
      "text/plain": [
       "    Sl no             Date          Stock_Name    New Stock Name  \\\n",
       "50    611    jul 31, 2018    petronet lng ltd   PETRONET LNG LTD   \n",
       "\n",
       "        NSE DESC  NSE CODE Action  Target         Recommender  \n",
       "50  PETRONET LNG  PETRONET    buy     267   kotak securities   "
      ]
     },
     "execution_count": 34,
     "metadata": {},
     "output_type": "execute_result"
    }
   ],
   "source": [
    "money[50:50+1]"
   ]
  },
  {
   "cell_type": "code",
   "execution_count": 35,
   "metadata": {},
   "outputs": [
    {
     "data": {
      "text/html": [
       "<div>\n",
       "<style>\n",
       "    .dataframe thead tr:only-child th {\n",
       "        text-align: right;\n",
       "    }\n",
       "\n",
       "    .dataframe thead th {\n",
       "        text-align: left;\n",
       "    }\n",
       "\n",
       "    .dataframe tbody tr th {\n",
       "        vertical-align: top;\n",
       "    }\n",
       "</style>\n",
       "<table border=\"1\" class=\"dataframe\">\n",
       "  <thead>\n",
       "    <tr style=\"text-align: right;\">\n",
       "      <th></th>\n",
       "      <th>Sl no</th>\n",
       "      <th>Date</th>\n",
       "      <th>Stock_Name</th>\n",
       "      <th>New Stock Name</th>\n",
       "      <th>NSE DESC</th>\n",
       "      <th>NSE CODE</th>\n",
       "      <th>Action</th>\n",
       "      <th>Target</th>\n",
       "      <th>Recommender</th>\n",
       "      <th>High</th>\n",
       "      <th>ticker_date</th>\n",
       "      <th>Recommendation_Date</th>\n",
       "      <th>Target_Met</th>\n",
       "      <th>Days_For_Target_Met</th>\n",
       "    </tr>\n",
       "  </thead>\n",
       "  <tbody>\n",
       "    <tr>\n",
       "      <th>0</th>\n",
       "      <td>8144</td>\n",
       "      <td>sep 15, 2014</td>\n",
       "      <td>petronet lng</td>\n",
       "      <td>PETRONET LNG</td>\n",
       "      <td>PETRONET LNG</td>\n",
       "      <td>PETRONET</td>\n",
       "      <td>sell</td>\n",
       "      <td>185</td>\n",
       "      <td>kotak securities</td>\n",
       "      <td>185.00</td>\n",
       "      <td>2015-03-04</td>\n",
       "      <td>2014-09-15</td>\n",
       "      <td>True</td>\n",
       "      <td>170 days</td>\n",
       "    </tr>\n",
       "    <tr>\n",
       "      <th>0</th>\n",
       "      <td>8571</td>\n",
       "      <td>aug 06, 2014</td>\n",
       "      <td>petronet lng</td>\n",
       "      <td>PETRONET LNG</td>\n",
       "      <td>PETRONET LNG</td>\n",
       "      <td>PETRONET</td>\n",
       "      <td>hold</td>\n",
       "      <td>170</td>\n",
       "      <td>emkay</td>\n",
       "      <td>170.35</td>\n",
       "      <td>2014-08-07</td>\n",
       "      <td>2014-08-06</td>\n",
       "      <td>True</td>\n",
       "      <td>1 days</td>\n",
       "    </tr>\n",
       "    <tr>\n",
       "      <th>0</th>\n",
       "      <td>9170</td>\n",
       "      <td>jun 23, 2014</td>\n",
       "      <td>petronet lng</td>\n",
       "      <td>PETRONET LNG</td>\n",
       "      <td>PETRONET LNG</td>\n",
       "      <td>PETRONET</td>\n",
       "      <td>buy</td>\n",
       "      <td>195</td>\n",
       "      <td>icicidirect.com</td>\n",
       "      <td>194.90</td>\n",
       "      <td>2014-09-11</td>\n",
       "      <td>2014-06-23</td>\n",
       "      <td>False</td>\n",
       "      <td>NaT</td>\n",
       "    </tr>\n",
       "    <tr>\n",
       "      <th>0</th>\n",
       "      <td>9674</td>\n",
       "      <td>may 14, 2014</td>\n",
       "      <td>petronet lng</td>\n",
       "      <td>PETRONET LNG</td>\n",
       "      <td>PETRONET LNG</td>\n",
       "      <td>PETRONET</td>\n",
       "      <td>hold</td>\n",
       "      <td>152</td>\n",
       "      <td>sushil finance</td>\n",
       "      <td>152.00</td>\n",
       "      <td>2014-05-27</td>\n",
       "      <td>2014-05-14</td>\n",
       "      <td>True</td>\n",
       "      <td>13 days</td>\n",
       "    </tr>\n",
       "    <tr>\n",
       "      <th>0</th>\n",
       "      <td>9762</td>\n",
       "      <td>may 06, 2014</td>\n",
       "      <td>petronet lng</td>\n",
       "      <td>PETRONET LNG</td>\n",
       "      <td>PETRONET LNG</td>\n",
       "      <td>PETRONET</td>\n",
       "      <td>reduce</td>\n",
       "      <td>143</td>\n",
       "      <td>krchoksey</td>\n",
       "      <td>143.45</td>\n",
       "      <td>2014-05-14</td>\n",
       "      <td>2014-05-06</td>\n",
       "      <td>True</td>\n",
       "      <td>8 days</td>\n",
       "    </tr>\n",
       "  </tbody>\n",
       "</table>\n",
       "</div>"
      ],
      "text/plain": [
       "   Sl no             Date     Stock_Name New Stock Name      NSE DESC  \\\n",
       "0   8144    sep 15, 2014    petronet lng   PETRONET LNG  PETRONET LNG   \n",
       "0   8571    aug 06, 2014    petronet lng   PETRONET LNG  PETRONET LNG   \n",
       "0   9170    jun 23, 2014    petronet lng   PETRONET LNG  PETRONET LNG   \n",
       "0   9674    may 14, 2014    petronet lng   PETRONET LNG  PETRONET LNG   \n",
       "0   9762    may 06, 2014    petronet lng   PETRONET LNG  PETRONET LNG   \n",
       "\n",
       "   NSE CODE  Action  Target         Recommender    High ticker_date  \\\n",
       "0  PETRONET    sell     185   kotak securities   185.00  2015-03-04   \n",
       "0  PETRONET    hold     170              emkay   170.35  2014-08-07   \n",
       "0  PETRONET     buy     195    icicidirect.com   194.90  2014-09-11   \n",
       "0  PETRONET    hold     152     sushil finance   152.00  2014-05-27   \n",
       "0  PETRONET  reduce     143          krchoksey   143.45  2014-05-14   \n",
       "\n",
       "  Recommendation_Date  Target_Met Days_For_Target_Met  \n",
       "0          2014-09-15        True            170 days  \n",
       "0          2014-08-06        True              1 days  \n",
       "0          2014-06-23       False                 NaT  \n",
       "0          2014-05-14        True             13 days  \n",
       "0          2014-05-06        True              8 days  "
      ]
     },
     "execution_count": 35,
     "metadata": {},
     "output_type": "execute_result"
    }
   ],
   "source": [
    "df.head()"
   ]
  },
  {
   "cell_type": "code",
   "execution_count": 5,
   "metadata": {
    "collapsed": true
   },
   "outputs": [],
   "source": [
    "df.to_csv('11942-end.csv')"
   ]
  },
  {
   "cell_type": "code",
   "execution_count": 36,
   "metadata": {},
   "outputs": [
    {
     "data": {
      "text/plain": [
       "'C:\\\\Users\\\\user\\\\Desktop'"
      ]
     },
     "execution_count": 36,
     "metadata": {},
     "output_type": "execute_result"
    }
   ],
   "source": [
    "import os\n",
    "os.getcwd()"
   ]
  }
 ],
 "metadata": {
  "kernelspec": {
   "display_name": "Python 3",
   "language": "python",
   "name": "python3"
  },
  "language_info": {
   "codemirror_mode": {
    "name": "ipython",
    "version": 3
   },
   "file_extension": ".py",
   "mimetype": "text/x-python",
   "name": "python",
   "nbconvert_exporter": "python",
   "pygments_lexer": "ipython3",
   "version": "3.6.3"
  }
 },
 "nbformat": 4,
 "nbformat_minor": 2
}
